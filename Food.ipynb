{
  "nbformat": 4,
  "nbformat_minor": 0,
  "metadata": {
    "colab": {
      "provenance": [],
      "authorship_tag": "ABX9TyO/4I26sLAyFuX/UJMs44gN",
      "include_colab_link": true
    },
    "kernelspec": {
      "name": "python3",
      "display_name": "Python 3"
    },
    "language_info": {
      "name": "python"
    }
  },
  "cells": [
    {
      "cell_type": "markdown",
      "metadata": {
        "id": "view-in-github",
        "colab_type": "text"
      },
      "source": [
        "<a href=\"https://colab.research.google.com/github/Sagarjain93/Marketing/blob/main/Food.ipynb\" target=\"_parent\"><img src=\"https://colab.research.google.com/assets/colab-badge.svg\" alt=\"Open In Colab\"/></a>"
      ]
    },
    {
      "cell_type": "markdown",
      "source": [
        "#**Project Title : Exploratory Data Analysis on Marketing**"
      ],
      "metadata": {
        "id": "uR0ww88JkELq"
      }
    },
    {
      "cell_type": "markdown",
      "source": [
        "##**1. Introduction**"
      ],
      "metadata": {
        "id": "B_CG4w0kkHUN"
      }
    },
    {
      "cell_type": "markdown",
      "source": [
        "##**2. Dataset Description**"
      ],
      "metadata": {
        "id": "RTkNAMLEkK3b"
      }
    },
    {
      "cell_type": "markdown",
      "source": [
        "##**3. Import Required Libraries**"
      ],
      "metadata": {
        "id": "mwo3NUHVkMKq"
      }
    },
    {
      "cell_type": "markdown",
      "source": [
        "We import Python libraries necessary for data manipulation and visualization"
      ],
      "metadata": {
        "id": "1SwhU8rxkPfP"
      }
    },
    {
      "cell_type": "code",
      "execution_count": 1,
      "metadata": {
        "id": "7C5QaJjuggwW"
      },
      "outputs": [],
      "source": [
        "#Data Manipulation Libraries\n",
        "import numpy as np\n",
        "import pandas as pd\n",
        "\n",
        "#Data Visualization Libraried\n",
        "import matplotlib.pyplot as plt\n",
        "import seaborn as sns\n",
        "\n",
        "#Set Consistent theme for all Plots\n",
        "sns.set_theme(style=\"whitegrid\")"
      ]
    },
    {
      "cell_type": "code",
      "source": [
        "from google.colab import drive\n",
        "drive.mount('/content/drive')"
      ],
      "metadata": {
        "colab": {
          "base_uri": "https://localhost:8080/"
        },
        "id": "1fjoR8m3kUuq",
        "outputId": "24ff0848-b9ee-4d2b-adaa-2ed0260d2aed"
      },
      "execution_count": 2,
      "outputs": [
        {
          "output_type": "stream",
          "name": "stdout",
          "text": [
            "Mounted at /content/drive\n"
          ]
        }
      ]
    }
  ]
}